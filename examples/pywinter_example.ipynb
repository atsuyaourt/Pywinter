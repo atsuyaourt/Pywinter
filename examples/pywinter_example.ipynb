{
  "nbformat": 4,
  "nbformat_minor": 0,
  "metadata": {
    "colab": {
      "name": "pywinter_example.ipynb",
      "provenance": []
    },
    "kernelspec": {
      "name": "python3",
      "display_name": "Python 3"
    }
  },
  "cells": [
    {
      "cell_type": "code",
      "metadata": {
        "id": "vkgL8r5mFjBu",
        "colab_type": "code",
        "colab": {}
      },
      "source": [
        ""
      ],
      "execution_count": 0,
      "outputs": []
    },
    {
      "cell_type": "markdown",
      "metadata": {
        "id": "oLuntM0iFunl",
        "colab_type": "text"
      },
      "source": [
        "**PYWINTER - WRF INTERMEDIATE FILE**\n",
        "\n",
        "Create your own wps intermediate files with WINTER"
      ]
    },
    {
      "cell_type": "markdown",
      "metadata": {
        "id": "--zM37F8J7ay",
        "colab_type": "text"
      },
      "source": [
        "Example"
      ]
    },
    {
      "cell_type": "code",
      "metadata": {
        "id": "XTZEpbDsJhUY",
        "colab_type": "code",
        "colab": {}
      },
      "source": [
        "from pywinter import winter\n",
        "import data_example as data\n",
        "\n",
        "# Read Geo-data\n",
        "lat = data.variables['Latitude'][:]\n",
        "lon = data.variables['Longitude'][:]\n",
        "\n",
        "# Read 2D data \n",
        "tp2m = data.variables['T2'][:,:]\n",
        "\n",
        "# Read 3D data \n",
        "temp = data.variables['T'][:,:,:]\n",
        "plevs = data.variables['PLEV'][:]\n",
        "\n",
        "# Read 3D soil data \n",
        "soilt = data.variables['SLTY'][:,:,:]\n",
        "sl_layer = ['000010','010040','040100','100200']\n",
        "\n",
        "# Create winter fields\n",
        "winter_geo = winter.Geo0(lat,lon)\n",
        "\n",
        "winter_t2m = winter.V2d('TT',tp2m)\n",
        "winter_t = winter.V3dp('TT',temp,plevs)\n",
        "winter_soilt_layer = winter.Vsl('ST',soilt,sl_layer)\n",
        "\n",
        "# Listing fields\n",
        "total_fields = [winter_t2m,\n",
        "                winter_t,\n",
        "                winter_soilt_layer]\n",
        "\n",
        "# Out path\n",
        "path_out = '/home/Documents/intermediate_files/'\n",
        "\n",
        "# Write intermediate file\n",
        "winter.cinter('FILE','1994-05-18_06',winter_geo,total_fields,path_out)\n",
        "\n",
        "\n"
      ],
      "execution_count": 0,
      "outputs": []
    }
  ]
}