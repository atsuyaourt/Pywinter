{
  "nbformat": 4,
  "nbformat_minor": 0,
  "metadata": {
    "colab": {
      "name": "data_example_01.ipynb",
      "provenance": []
    },
    "kernelspec": {
      "name": "python3",
      "display_name": "Python 3"
    }
  },
  "cells": [
    {
      "cell_type": "markdown",
      "metadata": {
        "id": "489io3g2rlWD"
      },
      "source": [
        "**PYWINTER 2D temperature**\n",
        "\n",
        "Example with 2-meter temperature data from MERRA2 model Analisys"
      ]
    },
    {
      "cell_type": "code",
      "metadata": {
        "id": "qHptV1dzgSTN"
      },
      "source": [
        "from pywinter import winter\n",
        "import numpy as np\n",
        "from datetime import datetime\n",
        "from netCDF4 import Dataset,num2date"
      ],
      "execution_count": 3,
      "outputs": []
    },
    {
      "cell_type": "code",
      "metadata": {
        "id": "iMXrI7kDika6"
      },
      "source": [
        "pathfile = 'MERRA2_400.tavg1_2d_slv_Nx.20150105.SUB.nc'\n",
        "path_save = '/PWINTER/path_save/'\n",
        "netfile = Dataset(pathfile,'r')"
      ],
      "execution_count": 5,
      "outputs": []
    },
    {
      "cell_type": "code",
      "metadata": {
        "id": "b2sXPGC8jfVR"
      },
      "source": [
        "netfile = Dataset(pathfile,'r')\n",
        "temp2m = netfile.variables['T2M'][:,:,:] # [time,lat,lon]\n",
        "lat = netfile.variables['lat'][:]\n",
        "lon = netfile.variables['lon'][:]\n",
        "\n",
        "time = netfile.variables['time']\n",
        "timed1 = num2date(time[:],units=time.units,calendar=time.calendar)\n",
        "timed2 = [str(i)[:13].replace(' ','_') for i in timed1]\n",
        "\n"
      ],
      "execution_count": 9,
      "outputs": []
    },
    {
      "cell_type": "code",
      "metadata": {
        "id": "YvLVONjBtUE4",
        "outputId": "7d5bc1dc-0b6f-49a9-ce92-31fdfca076f7",
        "colab": {
          "base_uri": "https://localhost:8080/"
        }
      },
      "source": [
        "print(timed)"
      ],
      "execution_count": 10,
      "outputs": [
        {
          "output_type": "stream",
          "text": [
            "['2015-01-05_00', '2015-01-05_01', '2015-01-05_02', '2015-01-05_03', '2015-01-05_04', '2015-01-05_05', '2015-01-05_06', '2015-01-05_07', '2015-01-05_08', '2015-01-05_09', '2015-01-05_10', '2015-01-05_11', '2015-01-05_12', '2015-01-05_13', '2015-01-05_14', '2015-01-05_15', '2015-01-05_16', '2015-01-05_17', '2015-01-05_18', '2015-01-05_19', '2015-01-05_20', '2015-01-05_21', '2015-01-05_22', '2015-01-05_23']\n"
          ],
          "name": "stdout"
        }
      ]
    },
    {
      "cell_type": "code",
      "metadata": {
        "id": "ocRDOdGEm0dY"
      },
      "source": [
        "geo = winter.Geo0(lat,lon)"
      ],
      "execution_count": 7,
      "outputs": []
    },
    {
      "cell_type": "code",
      "metadata": {
        "id": "Qu0feh5om_Ap"
      },
      "source": [
        "\n",
        "for i in range(len(timed)):\n",
        "  winter_t2 = winter.V2d('TT',temp2m[i,:,:])\n",
        "  total_var = [winter_t2]\n",
        "  winter.cinter('FILETEMP',timed2[i],geo,total_var,path_save)"
      ],
      "execution_count": null,
      "outputs": []
    }
  ]
}