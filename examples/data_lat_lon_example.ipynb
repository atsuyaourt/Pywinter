{
  "nbformat": 4,
  "nbformat_minor": 0,
  "metadata": {
    "colab": {
      "provenance": []
    },
    "kernelspec": {
      "name": "python3",
      "display_name": "Python 3"
    },
    "language_info": {
      "name": "python"
    }
  },
  "cells": [
    {
      "cell_type": "code",
      "execution_count": 1,
      "metadata": {
        "id": "T9qxJdr-0m4e"
      },
      "outputs": [],
      "source": [
        "import numpy as np\n",
        "import matplotlib.pyplot as plt"
      ]
    },
    {
      "cell_type": "markdown",
      "source": [
        "# Suppose latitude and longitude coordinates in degrees NORTH and degrees EAST ordered from lower to higher, and data in accordance with lat and lon\n"
      ],
      "metadata": {
        "id": "sPs2GOP_NlVT"
      }
    },
    {
      "cell_type": "code",
      "source": [
        "lat = np.arange(1,6) # LATITUDE - Degrees north  (lower to higher)\n",
        "lon = np.arange(1,6) # LONGITUDE - Degrees east (lower to higher)\n",
        "\n",
        "data = np.zeros([len(lon),len(lat)])\n",
        "\n",
        "print('lat >',lat)\n",
        "print('lon >',lon)\n",
        "print('')\n",
        "print('data >')\n",
        "print(data)"
      ],
      "metadata": {
        "colab": {
          "base_uri": "https://localhost:8080/"
        },
        "id": "3y55bvQ--jns",
        "outputId": "2e703dec-a604-444f-f1c9-2ca691b41122"
      },
      "execution_count": 2,
      "outputs": [
        {
          "output_type": "stream",
          "name": "stdout",
          "text": [
            "lat > [1 2 3 4 5]\n",
            "lon > [1 2 3 4 5]\n",
            "\n",
            "data >\n",
            "[[0. 0. 0. 0. 0.]\n",
            " [0. 0. 0. 0. 0.]\n",
            " [0. 0. 0. 0. 0.]\n",
            " [0. 0. 0. 0. 0.]\n",
            " [0. 0. 0. 0. 0.]]\n"
          ]
        }
      ]
    },
    {
      "cell_type": "code",
      "source": [
        "X,Y = np.meshgrid(lon,lat)\n",
        "print('X (lon) >')\n",
        "print(X)\n",
        "\n",
        "print('')\n",
        "\n",
        "print('Y (lat) >')\n",
        "print(Y)"
      ],
      "metadata": {
        "colab": {
          "base_uri": "https://localhost:8080/"
        },
        "id": "FxkdRlu--qDQ",
        "outputId": "051ccb00-e9ed-4094-b94e-ce77e081bc2a"
      },
      "execution_count": 3,
      "outputs": [
        {
          "output_type": "stream",
          "name": "stdout",
          "text": [
            "X (lon) >\n",
            "[[1 2 3 4 5]\n",
            " [1 2 3 4 5]\n",
            " [1 2 3 4 5]\n",
            " [1 2 3 4 5]\n",
            " [1 2 3 4 5]]\n",
            "\n",
            "Y (lat) >\n",
            "[[1 1 1 1 1]\n",
            " [2 2 2 2 2]\n",
            " [3 3 3 3 3]\n",
            " [4 4 4 4 4]\n",
            " [5 5 5 5 5]]\n"
          ]
        }
      ]
    },
    {
      "cell_type": "code",
      "source": [
        "fig = plt.figure(figsize=(9,5))\n",
        "\n",
        "plt.subplot(1,2,1)\n",
        "plt.title('LATITUDE')\n",
        "plt.pcolor(X,Y,Y)\n",
        "plt.colorbar(orientation='horizontal')\n",
        "#-------------------------------------------------------\n",
        "plt.subplot(1,2,2)\n",
        "plt.title('LONGITUDE')\n",
        "plt.pcolor(X,Y,X)\n",
        "plt.colorbar(orientation='horizontal')"
      ],
      "metadata": {
        "colab": {
          "base_uri": "https://localhost:8080/",
          "height": 445
        },
        "id": "Hq6zkRp7_K_c",
        "outputId": "5c7d2f20-77b5-4b79-9a71-08fefb047789"
      },
      "execution_count": 4,
      "outputs": [
        {
          "output_type": "execute_result",
          "data": {
            "text/plain": [
              "<matplotlib.colorbar.Colorbar at 0x7cdd943fe920>"
            ]
          },
          "metadata": {},
          "execution_count": 4
        },
        {
          "output_type": "display_data",
          "data": {
            "text/plain": [
              "<Figure size 900x500 with 4 Axes>"
            ],
            "image/png": "[encoded data removed]"
          },
          "metadata": {}
        }
      ]
    },
    {
      "cell_type": "markdown",
      "source": [
        "# Selecting SOUTH-WEST corner\n",
        "- This case latitude is lower to higher degrees north and SOUTH corner should be in the first position\n",
        "\n",
        "- This case longitude is lower to higher degrees east and WEST corner should be in the first position\n",
        "\n",
        "- Delta LAT and LON increment must be positive value\n"
      ],
      "metadata": {
        "id": "w8UW4vxtOdyK"
      }
    },
    {
      "cell_type": "code",
      "source": [
        "# SOUTH-WEST coordinate\n",
        "SW_lat = lat[0]\n",
        "SW_lon = lon[0]\n",
        "\n",
        "# Delta LAT and LON\n",
        "dlat = lat[1]-lat[0]\n",
        "dlon = lon[1]-lon[0]\n",
        "\n",
        "\n",
        "print('delta LAT >',dlat)\n",
        "print('delta LON >',dlon)\n",
        "print('')\n",
        "\n",
        "# SOUTH-WEST corner position in data array\n",
        "SW_lat_pos = np.where(lat==SW_lat)[0][0]\n",
        "SW_lon_pos = np.where(lon==SW_lon)[0][0]\n",
        "\n",
        "# Put 'ONE' in SOUTH-WEST CORNER\n",
        "data[SW_lat_pos][SW_lon_pos] = 1\n",
        "\n",
        "print('data')\n",
        "print(data)"
      ],
      "metadata": {
        "colab": {
          "base_uri": "https://localhost:8080/"
        },
        "id": "6T_4qg62-tvg",
        "outputId": "401fb6ee-be4e-468e-d217-c30278e81303"
      },
      "execution_count": 5,
      "outputs": [
        {
          "output_type": "stream",
          "name": "stdout",
          "text": [
            "delta LAT > 1\n",
            "delta LON > 1\n",
            "\n",
            "data\n",
            "[[1. 0. 0. 0. 0.]\n",
            " [0. 0. 0. 0. 0.]\n",
            " [0. 0. 0. 0. 0.]\n",
            " [0. 0. 0. 0. 0.]\n",
            " [0. 0. 0. 0. 0.]]\n"
          ]
        }
      ]
    },
    {
      "cell_type": "markdown",
      "source": [
        "##PLOT DATA\n",
        "The figure depends on the tool you use for plotting, for example:\n",
        "\n",
        "- imshow is what you see in regular print() command\n",
        "- pcolor is ordered in 'degrees north-east' form"
      ],
      "metadata": {
        "id": "HO0S0SDCMcrZ"
      }
    },
    {
      "cell_type": "code",
      "source": [
        "# IMSHOW\n",
        "fig = plt.figure(figsize=(9,5))\n",
        "plt.subplot(1,2,1)\n",
        "plt.title('imshow')\n",
        "plt.imshow(data)\n",
        "plt.colorbar(orientation='horizontal')\n",
        "#-------------------------------------------------------\n",
        "# PCOLOR\n",
        "plt.subplot(1,2,2)\n",
        "plt.title('pcolor')\n",
        "plt.pcolor(data)\n",
        "plt.colorbar(orientation='horizontal')"
      ],
      "metadata": {
        "colab": {
          "base_uri": "https://localhost:8080/",
          "height": 445
        },
        "id": "4jgyKIqt5Gpc",
        "outputId": "ce5a5d03-fea9-4c16-d04f-e494ea1afbdf"
      },
      "execution_count": 6,
      "outputs": [
        {
          "output_type": "execute_result",
          "data": {
            "text/plain": [
              "<matplotlib.colorbar.Colorbar at 0x7cdd9414baf0>"
            ]
          },
          "metadata": {},
          "execution_count": 6
        },
        {
          "output_type": "display_data",
          "data": {
            "text/plain": [
              "<Figure size 900x500 with 4 Axes>"
            ],
            "image/png": "[encoded data removed]"
          },
          "metadata": {}
        }
      ]
    },
    {
      "cell_type": "markdown",
      "source": [
        "#About data **NOT** ordered lower to higher north-east coordinates\n",
        "\n",
        "Some datasets can be not ordered from lower to higher latitude and/or longitude, in that cases there are some quick fix alternatives"
      ],
      "metadata": {
        "id": "kiqZ_PcCRRrI"
      }
    },
    {
      "cell_type": "markdown",
      "source": [
        "# [1] Re-order lat, lon and data"
      ],
      "metadata": {
        "id": "D3nMVRUBXKOs"
      }
    },
    {
      "cell_type": "code",
      "source": [
        "lat = np.arange(5,0,-1) # LATITUDE - Degrees north  (higher to lower)\n",
        "lon = np.arange(5,0,-1) # LONGITUDE - Degrees east (higher to lower)\n",
        "\n",
        "data = np.zeros([len(lon),len(lat)])\n",
        "data[0,0] = 2\n",
        "data[-1,-1] = 1\n",
        "\n",
        "print('lat >',lat)\n",
        "print('lon >',lon)\n",
        "print('')\n",
        "print('data >')\n",
        "print(data)\n"
      ],
      "metadata": {
        "colab": {
          "base_uri": "https://localhost:8080/"
        },
        "id": "8pSPxUKKRNE3",
        "outputId": "15e83a4d-7432-4b27-a95c-fde2af0be561"
      },
      "execution_count": 7,
      "outputs": [
        {
          "output_type": "stream",
          "name": "stdout",
          "text": [
            "lat > [5 4 3 2 1]\n",
            "lon > [5 4 3 2 1]\n",
            "\n",
            "data >\n",
            "[[2. 0. 0. 0. 0.]\n",
            " [0. 0. 0. 0. 0.]\n",
            " [0. 0. 0. 0. 0.]\n",
            " [0. 0. 0. 0. 0.]\n",
            " [0. 0. 0. 0. 1.]]\n"
          ]
        }
      ]
    },
    {
      "cell_type": "code",
      "source": [
        "# Reordering\n",
        "#####################################################################\n",
        "lat = lat[::-1]\n",
        "lon = lon[::-1]\n",
        "data = data[::-1,::-1]\n",
        "#####################################################################\n",
        "\n",
        "print('lat >',lat)\n",
        "print('lon >',lon)\n",
        "print('')\n",
        "print('data >')\n",
        "print(data)"
      ],
      "metadata": {
        "colab": {
          "base_uri": "https://localhost:8080/"
        },
        "id": "MZqtjW5nSpL9",
        "outputId": "086b63c9-2bbe-46c7-f613-4247d8fea1fd"
      },
      "execution_count": 8,
      "outputs": [
        {
          "output_type": "stream",
          "name": "stdout",
          "text": [
            "lat > [1 2 3 4 5]\n",
            "lon > [1 2 3 4 5]\n",
            "\n",
            "data >\n",
            "[[1. 0. 0. 0. 0.]\n",
            " [0. 0. 0. 0. 0.]\n",
            " [0. 0. 0. 0. 0.]\n",
            " [0. 0. 0. 0. 0.]\n",
            " [0. 0. 0. 0. 2.]]\n"
          ]
        }
      ]
    },
    {
      "cell_type": "code",
      "source": [
        "# SOUTH-WEST coordinate\n",
        "SW_lat = lat[0]\n",
        "SW_lon = lon[0]\n",
        "\n",
        "# Delta LAT  and LON\n",
        "dlat = lat[1]-lat[0]\n",
        "dlon = lon[1]-lon[0]\n",
        "\n",
        "print('SW_lat >',SW_lat)\n",
        "print('SW_lon >',SW_lon)\n",
        "print('')\n",
        "print('delta LAT >',dlat)\n",
        "print('delta LON >',dlon)"
      ],
      "metadata": {
        "colab": {
          "base_uri": "https://localhost:8080/"
        },
        "id": "HgTOg2akSKnP",
        "outputId": "2a0e317b-5e21-4745-e960-382873c9019c"
      },
      "execution_count": 9,
      "outputs": [
        {
          "output_type": "stream",
          "name": "stdout",
          "text": [
            "SW_lat > 1\n",
            "SW_lon > 1\n",
            "\n",
            "delta LAT > 1\n",
            "delta LON > 1\n"
          ]
        }
      ]
    },
    {
      "cell_type": "code",
      "source": [
        "# Pywinter\n",
        "winter_geo = pwy.Geo0(SW_lat,SW_lon,dlat,dlon)"
      ],
      "metadata": {
        "id": "JqSq5Y7jUnM7"
      },
      "execution_count": null,
      "outputs": []
    },
    {
      "cell_type": "markdown",
      "source": [
        "# [2] keep data the same and change parameters"
      ],
      "metadata": {
        "id": "mZmXMcHtYxtj"
      }
    },
    {
      "cell_type": "code",
      "source": [
        "lat = np.arange(5,0,-1) # LATITUDE - Degrees north  (higher to lower)\n",
        "lon = np.arange(5,0,-1) # LONGITUDE - Degrees east (higher to lower)\n",
        "\n",
        "data = np.zeros([len(lon),len(lat)])\n",
        "\n",
        "print('lat >',lat)\n",
        "print('lon >',lon)\n",
        "print('')\n",
        "print('data >')\n",
        "print(data)"
      ],
      "metadata": {
        "colab": {
          "base_uri": "https://localhost:8080/"
        },
        "id": "vJ1x5Jk1TkRa",
        "outputId": "8269aefd-bb5c-4ea9-acba-4548ea9b3ec7"
      },
      "execution_count": 10,
      "outputs": [
        {
          "output_type": "stream",
          "name": "stdout",
          "text": [
            "lat > [5 4 3 2 1]\n",
            "lon > [5 4 3 2 1]\n",
            "\n",
            "data >\n",
            "[[0. 0. 0. 0. 0.]\n",
            " [0. 0. 0. 0. 0.]\n",
            " [0. 0. 0. 0. 0.]\n",
            " [0. 0. 0. 0. 0.]\n",
            " [0. 0. 0. 0. 0.]]\n"
          ]
        }
      ]
    },
    {
      "cell_type": "code",
      "source": [
        "# NORTH-EAST corner coordinate\n",
        "NE_lat = lat[0] # Latitude is higher to lower degrees north and NORTH corner should be in the first position\n",
        "NE_lon = lon[0] # Longitude is higher to lower degrees east and EAST corner should be in the first position\n",
        "\n",
        "# Delta LAT and LON\n",
        "dlat = lat[1]-lat[0] # Negative value\n",
        "dlon = lon[1]-lon[0] # Negative value\n",
        "\n",
        "print('NE_lat >',NE_lat)\n",
        "print('NE_lon >',NE_lon)\n",
        "print('')\n",
        "print('delta LAT >',dlat)\n",
        "print('delta LON >',dlon)"
      ],
      "metadata": {
        "colab": {
          "base_uri": "https://localhost:8080/"
        },
        "id": "p46YAs5WTqGv",
        "outputId": "3299ed7d-3ee7-4471-d9bf-1a3a609af229"
      },
      "execution_count": 11,
      "outputs": [
        {
          "output_type": "stream",
          "name": "stdout",
          "text": [
            "NE_lat > 5\n",
            "NE_lon > 5\n",
            "\n",
            "delta LAT > -1\n",
            "delta LON > -1\n"
          ]
        }
      ]
    },
    {
      "cell_type": "code",
      "source": [
        "# Pywinter\n",
        "winter_geo = pwy.Geo0(NE_lat,NE_lon,dlat,dlon)"
      ],
      "metadata": {
        "id": "m2b5A9dIUjkt"
      },
      "execution_count": null,
      "outputs": []
    }
  ]
}