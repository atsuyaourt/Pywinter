{
  "nbformat": 4,
  "nbformat_minor": 0,
  "metadata": {
    "colab": {
      "name": "data_example_022.ipynb",
      "provenance": []
    },
    "kernelspec": {
      "name": "python3",
      "display_name": "Python 3"
    }
  },
  "cells": [
    {
      "cell_type": "markdown",
      "metadata": {
        "id": "3f8Cy0ACTSsT"
      },
      "source": [
        "\n",
        "**PYWINTER WRF OUTPUT**\n",
        "\n",
        "create input data with WRF output and modification"
      ]
    },
    {
      "cell_type": "code",
      "metadata": {
        "colab": {
          "base_uri": "https://localhost:8080/"
        },
        "id": "vgnsNV35l4vj",
        "outputId": "0055149e-2ab7-451f-a9ac-1a1b4b37b762"
      },
      "source": [
        "from google.colab import drive\n",
        "drive.mount('/content/drive')\n",
        "%cd drive/My Drive/PWINTER/sample_data/\n",
        "!pwd"
      ],
      "execution_count": 1,
      "outputs": [
        {
          "output_type": "stream",
          "text": [
            "Drive already mounted at /content/drive; to attempt to forcibly remount, call drive.mount(\"/content/drive\", force_remount=True).\n",
            "/content/drive/My Drive/PWINTER/sample_data\n",
            "/content/drive/My Drive/PWINTER/sample_data\n"
          ],
          "name": "stdout"
        }
      ]
    },
    {
      "cell_type": "code",
      "metadata": {
        "colab": {
          "base_uri": "https://localhost:8080/"
        },
        "id": "vBLTQQwRmB_7",
        "outputId": "cdfa093f-0889-424f-d23f-8aa1a9e9b184"
      },
      "source": [
        "pip install netCDF4"
      ],
      "execution_count": 2,
      "outputs": [
        {
          "output_type": "stream",
          "text": [
            "Requirement already satisfied: netCDF4 in /usr/local/lib/python3.6/dist-packages (1.5.5.1)\n",
            "Requirement already satisfied: cftime in /usr/local/lib/python3.6/dist-packages (from netCDF4) (1.4.1)\n",
            "Requirement already satisfied: numpy>=1.9 in /usr/local/lib/python3.6/dist-packages (from netCDF4) (1.19.5)\n"
          ],
          "name": "stdout"
        }
      ]
    },
    {
      "cell_type": "code",
      "metadata": {
        "colab": {
          "base_uri": "https://localhost:8080/"
        },
        "id": "wsN8Km38mI5z",
        "outputId": "427ea44f-3fc6-49cb-bad2-1543a6fcdf8e"
      },
      "source": [
        "pip install pywinter"
      ],
      "execution_count": 3,
      "outputs": [
        {
          "output_type": "stream",
          "text": [
            "Requirement already satisfied: pywinter in /usr/local/lib/python3.6/dist-packages (2.0.1)\n"
          ],
          "name": "stdout"
        }
      ]
    },
    {
      "cell_type": "code",
      "metadata": {
        "id": "E-IONrNjUNJi"
      },
      "source": [
        "import numpy as np\n",
        "from netCDF4 import Dataset\n",
        "import pywinter.winter as pyw\n"
      ],
      "execution_count": 4,
      "outputs": []
    },
    {
      "cell_type": "code",
      "metadata": {
        "colab": {
          "base_uri": "https://localhost:8080/"
        },
        "id": "IEh4wLfgmbTj",
        "outputId": "38f3c6a1-d822-4555-a542-7bf944566b44"
      },
      "source": [
        "# Read info\n",
        "\n",
        "ncfile = 'wout_d02_2018-11-24-06_00_00_00'\n",
        "datefile = ncfile[9:-6]   # format YYYY-MM-DD_HH\n",
        "\n",
        "print(datefile)"
      ],
      "execution_count": 5,
      "outputs": [
        {
          "output_type": "stream",
          "text": [
            "2018-11-24-06_00\n"
          ],
          "name": "stdout"
        }
      ]
    },
    {
      "cell_type": "code",
      "metadata": {
        "colab": {
          "base_uri": "https://localhost:8080/"
        },
        "id": "TqFZhxr2my9L",
        "outputId": "abb048d3-f8a9-49fd-e228-da7cff38277f"
      },
      "source": [
        "nc = Dataset(ncfile,'r')\n",
        "\n",
        "proj = getattr(nc, 'MAP_PROJ_CHAR')   # proj = 'Mercator' -> Geo1\n",
        "dx = getattr(nc, 'DX')/1000 # m -> Km\n",
        "dy = getattr(nc, 'DY')/1000 # m -> Km\n",
        "tlat1 = getattr(nc, 'TRUELAT1')\n",
        "\n",
        "print(dx)\n",
        "print(dy)\n",
        "print(tlat1)"
      ],
      "execution_count": 13,
      "outputs": [
        {
          "output_type": "stream",
          "text": [
            "9.0\n",
            "9.0\n",
            "6.194\n"
          ],
          "name": "stdout"
        }
      ]
    },
    {
      "cell_type": "code",
      "metadata": {
        "colab": {
          "base_uri": "https://localhost:8080/"
        },
        "id": "qA8fQC2knk2r",
        "outputId": "112acec6-bb25-4fde-9628-bdda1562633d"
      },
      "source": [
        "lats = nc.variables['XLAT'][0,:,0]\n",
        "lons = nc.variables['XLONG'][0,0,:]\n",
        "\n",
        "# Read 3d info and modification \n",
        "uu3 = nc.variables['U'][0,:,:,:] + 1.0\n",
        "ps3 = nc.variables['PB'][0,:,:,:] + nc.variables['P'][0,:,:,:]  # calculate pressure field\n",
        "\n",
        "print(uu3.shape)\n",
        "uu3 = uu3[:,:,:-1] # quick wind \"destagger\"\n",
        "print(uu3.shape)\n",
        "\n",
        "print(lats[0],' ',lats[-1])\n",
        "print(lons[0],' ',lons[-1])"
      ],
      "execution_count": 26,
      "outputs": [
        {
          "output_type": "stream",
          "text": [
            "(49, 273, 274)\n",
            "(49, 273, 273)\n",
            "-4.817604   17.066734\n",
            "-86.77437   -64.62622\n"
          ],
          "name": "stdout"
        }
      ]
    },
    {
      "cell_type": "code",
      "metadata": {
        "id": "702amkUgpPms"
      },
      "source": [
        "# SWCORNER AT (lats[0],lons[0])"
      ],
      "execution_count": 27,
      "outputs": []
    },
    {
      "cell_type": "code",
      "metadata": {
        "id": "we8KzbjBYbXo",
        "colab": {
          "base_uri": "https://localhost:8080/"
        },
        "outputId": "967f6665-1e2c-4e7c-d380-62c613730c96"
      },
      "source": [
        "\n",
        "# PYWINTER\n",
        "\n",
        "# pywinter geo-info\n",
        "geoi = pyw.Geo1(lats[0],lons[0],dx,dy,tlat1)\n",
        "\n",
        "# create pywinter variables\n",
        "# V3D\n",
        "pw_uu3 = pyw.V3d('UU',uu3)\n",
        "pw_ps3 = pyw.V3d('PRESSURE',ps3)\n",
        "\n",
        "\n",
        "#listing pywinter variables to include in intermediate files\n",
        "listvar = [pw_uu3,pw_ps3]\n",
        "\n",
        "# write intermediate files\n",
        "pyw.cinter('WOUT',datefile,geoi,listvar)\n"
      ],
      "execution_count": 28,
      "outputs": [
        {
          "output_type": "stream",
          "text": [
            "WOUT:2018-11-24-06_00\n"
          ],
          "name": "stdout"
        }
      ]
    }
  ]
}