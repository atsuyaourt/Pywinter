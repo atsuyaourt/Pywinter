{
  "nbformat": 4,
  "nbformat_minor": 0,
  "metadata": {
    "colab": {
      "name": "data_example_022.ipynb",
      "provenance": []
    },
    "kernelspec": {
      "name": "python3",
      "display_name": "Python 3"
    }
  },
  "cells": [
    {
      "cell_type": "markdown",
      "metadata": {
        "id": "3f8Cy0ACTSsT"
      },
      "source": [
        "\n",
        "**PYWINTER WRF OUTPUT**\n",
        "\n",
        "create input data with wrf output and modification"
      ]
    },
    {
      "cell_type": "code",
      "metadata": {
        "id": "E-IONrNjUNJi"
      },
      "source": [
        "import numpy as np\n",
        "from netCDF4 import Dataset\n",
        "import pywinter.winter as pyw"
      ],
      "execution_count": null,
      "outputs": []
    },
    {
      "cell_type": "code",
      "metadata": {
        "id": "eq37oszRUZhq"
      },
      "source": [
        "pathwout = '/wrfoutput/'\n",
        "path_save = '/PWINTER/path_save/'"
      ],
      "execution_count": null,
      "outputs": []
    },
    {
      "cell_type": "code",
      "metadata": {
        "id": "we8KzbjBYbXo"
      },
      "source": [
        "# Read info\n",
        "\n",
        "ncfile = pathwout+'wout_d02_2018-11-24-06_00:00:00'\n",
        "datefile = ncfile[len(pathwout)+9:-6]   # format YYYY-MM-DD_HH\n",
        "nc = Dataset(ncfile,'r')\n",
        "\n",
        "proj = getattr(nc, 'MAP_PROJ_CHAR')   # proj = 'Mercator' -> Geo1\n",
        "dx = getattr(nc, 'DX')\n",
        "dy = getattr(nc, 'DY')\n",
        "tlat1 = getattr(nc, 'TRUELAT1')\n",
        "\n",
        "lats = nc.variables['XLAT'][0,:,0]\n",
        "lons = nc.variables['XLONG'][0,0,:]\n",
        "\n",
        "# Read 3d info and modification \n",
        "uu3 = getvar(nc,'U',meta=False)[0,:,:,:] + 1.0\n",
        "ps3 = nc.variables['PB'][0,:,:,:] + nc.variables['P'][0,:,:,:]\n",
        "\n",
        "nc.close()\n",
        "\n",
        "# PYWINTER\n",
        "\n",
        "# pywinter geo-info\n",
        "geoi = pyw.Geo1(lats,lons,dx,dy,tlat1)\n",
        "\n",
        "# create pywinter variables\n",
        "# V3D\n",
        "pw_uu3 = pyw.V3d('UU',uu3)\n",
        "pw_vv3 = pyw.V3d('VV',vv3)\n",
        "pw_ps3 = pyw.V3d('PRESSURE',ps3)\n",
        "\n",
        "\n",
        "#listing pywinter variables to include in intermediate files\n",
        "listvar = [pw_uu3,pw_vv3,pw_ps3]\n",
        "\n",
        "# write intermediate files\n",
        "pyw.cinter('WOUT',datefile,geoi,listvar,path_save)\n"
      ],
      "execution_count": null,
      "outputs": []
    }
  ]
}