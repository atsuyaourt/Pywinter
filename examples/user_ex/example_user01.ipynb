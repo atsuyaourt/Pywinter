{
  "nbformat": 4,
  "nbformat_minor": 0,
  "metadata": {
    "colab": {
      "provenance": []
    },
    "kernelspec": {
      "name": "python3",
      "display_name": "Python 3"
    },
    "language_info": {
      "name": "python"
    }
  },
  "cells": [
    {
      "cell_type": "code",
      "execution_count": 1,
      "metadata": {
        "colab": {
          "base_uri": "https://localhost:8080/"
        },
        "id": "vdWQf80m6y9a",
        "outputId": "78f92961-e028-488c-d371-4ee3d5765ade"
      },
      "outputs": [
        {
          "output_type": "stream",
          "name": "stdout",
          "text": [
            "Drive already mounted at /content/drive; to attempt to forcibly remount, call drive.mount(\"/content/drive\", force_remount=True).\n",
            "/content/drive/My Drive/PWINTER/user\n",
            "/content/drive/My Drive/PWINTER/user\n"
          ]
        }
      ],
      "source": [
        "from google.colab import drive\n",
        "drive.mount('/content/drive')\n",
        "%cd drive/My Drive/PWINTER/user/\n",
        "!pwd"
      ]
    },
    {
      "cell_type": "code",
      "source": [
        "pip install setuptools==59.1"
      ],
      "metadata": {
        "colab": {
          "base_uri": "https://localhost:8080/"
        },
        "id": "OMIGIi1T8ZlN",
        "outputId": "9f3bd7fe-508b-4a88-da61-753d95d68b98"
      },
      "execution_count": 2,
      "outputs": [
        {
          "output_type": "stream",
          "name": "stdout",
          "text": [
            "Requirement already satisfied: setuptools==59.1 in /usr/local/lib/python3.10/dist-packages (59.1.0)\n"
          ]
        }
      ]
    },
    {
      "cell_type": "code",
      "source": [
        "pip install numpy==1.22"
      ],
      "metadata": {
        "colab": {
          "base_uri": "https://localhost:8080/"
        },
        "id": "VbOV49yi8tIX",
        "outputId": "85cf3e1b-6f0f-4382-d5ac-c3cf20cb6bc6"
      },
      "execution_count": 3,
      "outputs": [
        {
          "output_type": "stream",
          "name": "stdout",
          "text": [
            "Requirement already satisfied: numpy==1.22 in /usr/local/lib/python3.10/dist-packages (1.22.0)\n"
          ]
        }
      ]
    },
    {
      "cell_type": "code",
      "source": [
        "import setuptools\n",
        "print(setuptools.__version__)\n",
        "\n",
        "import numpy\n",
        "print(numpy.__version__)"
      ],
      "metadata": {
        "colab": {
          "base_uri": "https://localhost:8080/"
        },
        "id": "u5DWz4hi77-s",
        "outputId": "5da8f583-9f1f-45ae-ee08-41211bdfc35a"
      },
      "execution_count": 4,
      "outputs": [
        {
          "output_type": "stream",
          "name": "stdout",
          "text": [
            "59.1.0\n",
            "1.22.0\n"
          ]
        }
      ]
    },
    {
      "cell_type": "code",
      "source": [
        "pip install pywinter"
      ],
      "metadata": {
        "colab": {
          "base_uri": "https://localhost:8080/"
        },
        "id": "uNhMwOAk7fv2",
        "outputId": "cdded527-23e1-4f49-a653-3db4f35cb43b"
      },
      "execution_count": 5,
      "outputs": [
        {
          "output_type": "stream",
          "name": "stdout",
          "text": [
            "Requirement already satisfied: pywinter in /usr/local/lib/python3.10/dist-packages (2.0.6)\n"
          ]
        }
      ]
    },
    {
      "cell_type": "code",
      "source": [
        "pip install netCDF4"
      ],
      "metadata": {
        "colab": {
          "base_uri": "https://localhost:8080/"
        },
        "id": "g1LhGpcG96gU",
        "outputId": "b040cd36-65c7-4e49-98dc-a62adb916c3a"
      },
      "execution_count": 6,
      "outputs": [
        {
          "output_type": "stream",
          "name": "stdout",
          "text": [
            "Requirement already satisfied: netCDF4 in /usr/local/lib/python3.10/dist-packages (1.7.1.post2)\n",
            "Requirement already satisfied: cftime in /usr/local/lib/python3.10/dist-packages (from netCDF4) (1.6.4)\n",
            "Requirement already satisfied: certifi in /usr/local/lib/python3.10/dist-packages (from netCDF4) (2024.8.30)\n",
            "Requirement already satisfied: numpy in /usr/local/lib/python3.10/dist-packages (from netCDF4) (1.22.0)\n"
          ]
        }
      ]
    },
    {
      "cell_type": "code",
      "source": [
        "import numpy as np\n",
        "from datetime import datetime\n",
        "from netCDF4 import Dataset,num2date"
      ],
      "metadata": {
        "id": "PTgtI4-x-A_c"
      },
      "execution_count": 7,
      "outputs": []
    },
    {
      "cell_type": "code",
      "source": [
        "pathfile = 'air.2m.1881.nc'"
      ],
      "metadata": {
        "id": "NiDjwhxE-DBr"
      },
      "execution_count": 8,
      "outputs": []
    },
    {
      "cell_type": "code",
      "source": [
        "netfile = Dataset(pathfile,'r')"
      ],
      "metadata": {
        "id": "MXU5DlTz-ffJ"
      },
      "execution_count": 9,
      "outputs": []
    },
    {
      "cell_type": "code",
      "source": [
        "temp2m = netfile.variables['air'][:,:,:] # [time,lat,lon]\n",
        "lat = netfile.variables['lat'][:]\n",
        "lon = netfile.variables['lon'][:]"
      ],
      "metadata": {
        "id": "XJ8JFizZ-fpI"
      },
      "execution_count": 10,
      "outputs": []
    },
    {
      "cell_type": "code",
      "source": [
        "time = netfile.variables['time']\n",
        "\n",
        "\n",
        "timed1 = num2date(time[:],units=time.units)\n",
        "timed2 = [str(i)[:13].replace(' ','_') for i in timed1]"
      ],
      "metadata": {
        "id": "Cy9g5Z5I-5wk"
      },
      "execution_count": 11,
      "outputs": []
    },
    {
      "cell_type": "code",
      "source": [
        "import pywinter.winter as pyw"
      ],
      "metadata": {
        "id": "V4D7rDVHABnQ"
      },
      "execution_count": 12,
      "outputs": []
    },
    {
      "cell_type": "code",
      "source": [
        "dlat = lat[1] - lat[0]\n",
        "dlon = lon[1] - lon[0]\n",
        "\n",
        "geo = pyw.Geo0(lat[0],lon[0],dlat,dlon)"
      ],
      "metadata": {
        "id": "h4fXBa0E_3wh"
      },
      "execution_count": 13,
      "outputs": []
    },
    {
      "cell_type": "code",
      "source": [
        "for i in range(len(timed1[:5])):\n",
        "  winter_t2 = pyw.V2d('TT',temp2m[i,:,:])\n",
        "  total_var = [winter_t2]\n",
        "  pyw.cinter('FILETEMP',timed2[i],geo,total_var)"
      ],
      "metadata": {
        "colab": {
          "base_uri": "https://localhost:8080/"
        },
        "id": "bbDyQFVaAf4Y",
        "outputId": "11fcb5a9-0b87-4d29-ec2e-674cdd41c7e1"
      },
      "execution_count": 16,
      "outputs": [
        {
          "output_type": "stream",
          "name": "stdout",
          "text": [
            "FILETEMP:1881-01-01_00\n",
            "FILETEMP:1881-01-01_03\n",
            "FILETEMP:1881-01-01_06\n",
            "FILETEMP:1881-01-01_09\n",
            "FILETEMP:1881-01-01_12\n"
          ]
        }
      ]
    }
  ]
}